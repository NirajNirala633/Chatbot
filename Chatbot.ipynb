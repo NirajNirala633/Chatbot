{
 "cells": [
  {
   "cell_type": "markdown",
   "id": "9ea1e471-46bd-43bc-883c-7f42a0da874a",
   "metadata": {},
   "source": [
    "# Simple Chatbot"
   ]
  },
  {
   "cell_type": "code",
   "execution_count": 1,
   "id": "15d34a0d-b971-41d1-a576-dd6e9181f99c",
   "metadata": {},
   "outputs": [],
   "source": [
    "import numpy as np\n",
    "import nltk\n",
    "import random\n",
    "\n",
    "f = open(r'chatbot.txt')\n",
    "text = f.read()"
   ]
  },
  {
   "cell_type": "code",
   "execution_count": 2,
   "id": "1f52fe36-d6bc-4a17-9dfc-4b9903ace8f8",
   "metadata": {},
   "outputs": [
    {
     "name": "stdout",
     "output_type": "stream",
     "text": [
      "Data science is an interdisciplinary academic field[1] that uses statistics, scientific computing, scientific methods, processing, scientific visualization, algorithms and systems to extract or extrapolate knowledge and insights from potentially noisy, structured, or unstructured data.[2]\n",
      "\n",
      "Data science also integrates domain knowledge from the underlying application domain (e.g., natural sciences, information technology, and medicine).[3] Data science is multifaceted and can be described as a science, a research paradigm, a research method, a discipline, a workflow, and a profession.[4]\n",
      "\n",
      "Data science is \"a concept to unify statistics, data analysis, informatics, and their related methods\" to \"understand and analyze actual phenomena\" with data.[5] It uses techniques and theories drawn from many fields within the context of mathematics, statistics, computer science, information science, and domain knowledge.[6] However, data science is different from computer science and information science. Turing Award winner Jim Gray imagined data science as a \"fourth paradigm\" of science (empirical, theoretical, computational, and now data-driven) and asserted that \"everything about science is changing because of the impact of information technology\" and the data deluge.[7][8]\n",
      "\n",
      "A data scientist is a professional who creates programming code and combines it with statistical knowledge to create insights from data.[9]\n",
      "\n",
      "Foundations\n",
      "Data science is an interdisciplinary field[10] focused on extracting knowledge from typically large data sets and applying the knowledge and insights from that data to solve problems in a wide range of application domains. The field encompasses preparing data for analysis, formulating data science problems, analyzing data, developing data-driven solutions, and presenting findings to inform high-level decisions in a broad range of application domains. As such, it incorporates skills from computer science, statistics, information science, mathematics, data visualization, information visualization, data sonification, data integration, graphic design, complex systems, communication and business.[11][12] Statistician Nathan Yau, drawing on Ben Fry, also links data science to humanâ€“computer interaction: users should be able to intuitively control and explore data.[13][14] In 2015, the American Statistical Association identified database management, statistics and machine learning, and distributed and parallel systems as the three emerging foundational professional communities.[15]\n",
      "\n",
      "Relationship to statistics\n",
      "Many statisticians, including Nate Silver, have argued that data science is not a new field, but rather another name for statistics.[16] Others argue that data science is distinct from statistics because it focuses on problems and techniques unique to digital data.[17] Vasant Dhar writes that statistics emphasizes quantitative data and description. In contrast, data science deals with quantitative and qualitative data (e.g., from images, text, sensors, transactions, customer information, etc.) and emphasizes prediction and action.[18] Andrew Gelman of Columbia University has described statistics as a non-essential part of data science.[19]\n",
      "\n",
      "Stanford professor David Donoho writes that data science is not distinguished from statistics by the size of datasets or use of computing and that many graduate programs misleadingly advertise their analytics and statistics training as the essence of a data-science program. He describes data science as an applied field growing out of traditional statistics.[20]\n",
      "\n",
      "Etymology\n",
      "Early usage\n",
      "In 1962, John Tukey described a field he called \"data analysis\", which resembles modern data science.[20] In 1985, in a lecture given to the Chinese Academy of Sciences in Beijing, C. F. Jeff Wu used the term \"data science\" for the first time as an alternative name for statistics.[21] Later, attendees at a 1992 statistics symposium at the University of Montpellier  II acknowledged the emergence of a new discipline focused on data of various origins and forms, combining established concepts and principles of statistics and data analysis with computing.[22][23]\n",
      "\n",
      "The term \"data science\" has been traced back to 1974, when Peter Naur proposed it as an alternative name to computer science.[6] In 1996, the International Federation of Classification Societies became the first conference to specifically feature data science as a topic.[6] However, the definition was still in flux. After the 1985 lecture at the Chinese Academy of Sciences in Beijing, in 1997 C. F. Jeff Wu again suggested that statistics should be renamed data science. He reasoned that a new name would help statistics shed inaccurate stereotypes, such as being synonymous with accounting or limited to describing data.[24] In 1998, Hayashi Chikio argued for data science as a new, interdisciplinary concept, with three aspects: data design, collection, and analysis.[23]\n",
      "\n",
      "During the 1990s, popular terms for the process of finding patterns in datasets (which were increasingly large) included \"knowledge discovery\" and \"data mining\".[6][25]\n",
      "\n",
      "Modern usage\n",
      "In 2012, technologists Thomas H. Davenport and DJ Patil declared \"Data Scientist: The Sexiest Job of the 21st Century\",[26] a catchphrase that was picked up even by major-city newspapers like the New York Times[27] and the Boston Globe.[28] A decade later, they reaffirmed it, stating that \"the job is more in demand than ever with employers\".[29]\n",
      "\n",
      "The modern conception of data science as an independent discipline is sometimes attributed to William S. Cleveland.[30] In a 2001 paper, he advocated an expansion of statistics beyond theory into technical areas; because this would significantly change the field, it warranted a new name.[25] \"Data science\" became more widely used in the next few years: in 2002, the Committee on Data for Science and Technology launched the Data Science Journal. In 2003, Columbia University launched The Journal of Data Science.[25] In 2014, the American Statistical Association's Section on Statistical Learning and Data Mining changed its name to the Section on Statistical Learning and Data Science, reflecting the ascendant popularity of data science.[31]\n",
      "\n",
      "The professional title of \"data scientist\" has been attributed to DJ Patil and Jeff Hammerbacher in 2008.[32] Though it was used by the National Science Board in their 2005 report \"Long-Lived Digital Data Collections: Enabling Research and Education in the 21st Century\", it referred broadly to any key role in managing a digital data collection.[33]\n",
      "\n",
      "There is still no consensus on the definition of data science, and it is considered by some to be a buzzword.[34] Big data is a related marketing term.[35] Data scientists are responsible for breaking down big data into usable information and creating software and algorithms that help companies and organizations determine optimal operations.[36]\n",
      "\n",
      "Data science and data analysis\n",
      "summary statistics and scatterplots showing the Datasaurus dozen data set\n",
      "Example for the usefulness of exploratory data analysis as demonstrated using the Datasaurus dozen data set\n",
      "Data science and data analysis are both important disciplines in the field of data management and analysis, but they differ in several key ways. While both fields involve working with data, data science is more of an interdisciplinary field that involves the application of statistical, computational, and machine learning methods to extract insights from data and make predictions, while data analysis is more focused on the examination and interpretation of data to identify patterns and trends.[37][38]\n",
      "\n",
      "Data analysis typically involves working with smaller, structured datasets to answer specific questions or solve specific problems. This can involve tasks such as data cleaning, data visualization, and exploratory data analysis to gain insights into the data and develop hypotheses about relationships between variables. Data analysts typically use statistical methods to test these hypotheses and draw conclusions from the data. For example, a data analyst might analyze sales data to identify trends in customer behavior and make recommendations for marketing strategies.[37]\n",
      "\n",
      "Data science, on the other hand, is a more complex and iterative process that involves working with larger, more complex datasets that often require advanced computational and statistical methods to analyze. Data scientists often work with unstructured data such as text or images and use machine learning algorithms to build predictive models and make data-driven decisions. In addition to statistical analysis, data science often involves tasks such as data preprocessing, feature engineering, and model selection. For instance, a data scientist might develop a recommendation system for an e-commerce platform by analyzing user behavior patterns and using machine learning algorithms to predict user preferences.[38][39]\n",
      "\n",
      "While data analysis focuses on extracting insights from existing data, data science goes beyond that by incorporating the development and implementation of predictive models to make informed decisions. Data scientists are often responsible for collecting and cleaning data, selecting appropriate analytical techniques, and deploying models in real-world scenarios. They work at the intersection of mathematics, computer science, and domain expertise to solve complex problems and uncover hidden patterns in large datasets.[38]\n",
      "\n",
      "Despite these differences, data science and data analysis are closely related fields and often require similar skill sets. Both fields require a solid foundation in statistics, programming, and data visualization, as well as the ability to communicate findings effectively to both technical and non-technical audiences. Both fields benefit from critical thinking and domain knowledge, as understanding the context and nuances of the data is essential for accurate analysis and modeling.[37][38]\n",
      "\n",
      "In summary, data analysis and data science are distinct yet interconnected disciplines within the broader field of data management and analysis. Data analysis focuses on extracting insights and drawing conclusions from structured data, while data science involves a more comprehensive approach that combines statistical analysis, computational methods, and machine learning to extract insights, build predictive models, and drive data-driven decision-making. Both fields use data to understand patterns, make informed decisions, and solve complex problems across various domains.\n",
      "\n",
      "Cloud computing for data science\n",
      "\n",
      "A cloud-based architecture for enabling big data analytics. Data flows from various sources, such as personal computers, laptops, and smart phones, through cloud services for processing and analysis, finally leading to various big data applications.\n",
      "Cloud computing can offer access to large amounts of computational power and storage.[40] In big data, where volumes of information are continually generated and processed, these platforms can be used to handle complex and resource-intensive analytical tasks.[41]\n",
      "\n",
      "Some distributed computing frameworks are designed to handle big data workloads. These frameworks can enable data scientists to process and analyze large datasets in parallel, which can reducing processing times.[42]\n",
      "\n",
      "Ethical consideration in data science\n",
      "Data science involve collecting, processing, and analyzing data which often including personal and sensitive information. Ethical concerns include potential privacy violations, bias perpetuation, and negative societal impacts [43][44]\n",
      "\n",
      "Machine learning models can amplify existing biases present in training data, leading to discriminatory or unfair outcomes.[45][46]\n",
      "\n",
      "See also\n",
      "Python (programming language)\n",
      "R (programming language)\n",
      "Data engineering\n",
      "Big data\n",
      "Machine learning\n",
      "References\n",
      " Donoho, David (2017). \"50 Years of Data Science\". Journal of Computational and Graphical Statistics. 26 (4): 745â€“766. doi:10.1080/10618600.2017.1384734. S2CID 114558008.\n",
      " Dhar, V. (2013). \"Data science and prediction\". Communications of the ACM. 56 (12): 64â€“73. doi:10.1145/2500499. S2CID 6107147. Archived from the original on 9 November 2014. Retrieved 2 September 2015.\n",
      " Danyluk, A.; Leidig, P. (2021). Computing Competencies for Undergraduate Data Science Curricula (PDF). ACM Data Science Task Force Final Report (Report).\n",
      " Mike, Koby; Hazzan, Orit (20 January 2023). \"What is Data Science?\". Communications of the ACM. 66 (2): 12â€“13. doi:10.1145/3575663. ISSN 0001-0782.\n",
      " Hayashi, Chikio (1 January 1998). \"What is Data Science ? Fundamental Concepts and a Heuristic Example\". In Hayashi, Chikio; Yajima, Keiji; Bock, Hans-Hermann; Ohsumi, Noboru; Tanaka, Yutaka; Baba, Yasumasa (eds.). Data Science, Classification, and Related Methods. Studies in Classification, Data Analysis, and Knowledge Organization. Springer Japan. pp. 40â€“51. doi:10.1007/978-4-431-65950-1_3. ISBN 9784431702085.\n",
      " Cao, Longbing (29 June 2017). \"Data Science: A Comprehensive Overview\". ACM Computing Surveys. 50 (3): 43:1â€“43:42. arXiv:2007.03606. doi:10.1145/3076253. ISSN 0360-0300. S2CID 207595944.\n",
      " Tony Hey; Stewart Tansley; Kristin Michele Tolle (2009). The Fourth Paradigm: Data-intensive Scientific Discovery. Microsoft Research. ISBN 978-0-9825442-0-4. Archived from the original on 20 March 2017.\n",
      " Bell, G.; Hey, T.; Szalay, A. (2009). \"Computer Science: Beyond the Data Deluge\". Science. 323 (5919): 1297â€“1298. doi:10.1126/science.1170411. ISSN 0036-8075. PMID 19265007. S2CID 9743327.\n",
      " Davenport, Thomas H.; Patil, D. J. (October 2012). \"Data Scientist: The Sexiest Job of the 21st Century\". Harvard Business Review. 90 (10): 70â€“76, 128. PMID 23074866. Retrieved 18 January 2016.\n",
      " Emmert-Streib, Frank; Dehmer, Matthias (2018). \"Defining data science by a data-driven quantification of the community\". Machine Learning and Knowledge Extraction. 1: 235â€“251. doi:10.3390/make1010015.\n",
      " \"1. Introduction: What Is Data Science?\". Doing Data Science [Book]. Oâ€™Reilly. Retrieved 3 April 2020.\n",
      " \"the three sexy skills of data geeks\". m.e.driscoll: data utopian. 27 May 2009. Retrieved 3 April 2020.\n",
      " Yau, Nathan (4 June 2009). \"Rise of the Data Scientist\". FlowingData. Retrieved 3 April 2020.\n",
      " \"Basic Example\". benfry.com. Retrieved 3 April 2020.\n",
      " \"ASA Statement on the Role of Statistics in Data Science\". AmStatNews. American Statistical Association. 1 October 2015. Archived from the original on 20 June 2019. Retrieved 29 May 2019.\n",
      " \"Nate Silver: What I need from statisticians\". Statistics Views. 23 August 2013. Retrieved 3 April 2020.\n",
      " \"What's the Difference Between Data Science and Statistics?\". Priceonomics. 13 October 2015. Retrieved 3 April 2020.\n",
      " Vasant Dhar (1 December 2013). \"Data science and prediction\". Communications of the ACM. 56 (12): 64â€“73. doi:10.1145/2500499. S2CID 6107147.\n",
      " \"Statistics is the least important part of data science Â« Statistical Modeling, Causal Inference, and Social Science\". statmodeling.stat.columbia.edu. Retrieved 3 April 2020.\n",
      " Donoho, David (18 September 2015). \"50 years of Data Science\" (PDF). Retrieved 2 April 2020.\n",
      " Wu, C. F. Jeff (1986). \"Future directions of statistical research in China: a historical perspective\" (PDF). Application of Statistics and Management. 1: 1â€“7. Retrieved 29 November 2020.\n",
      " Escoufier, Yves; Hayashi, Chikio; Fichet, Bernard, eds. (1995). Data science and its applications. Tokyo: Academic Press/Harcourt Brace. ISBN 0-12-241770-4. OCLC 489990740.\n",
      " Murtagh, Fionn; Devlin, Keith (2018). \"The Development of Data Science: Implications for Education, Employment, Research, and the Data Revolution for Sustainable Development\". Big Data and Cognitive Computing. 2 (2): 14. doi:10.3390/bdcc2020014.\n",
      " Wu, C. F. Jeff. \"Statistics=Data Science?\" (PDF). Retrieved 2 April 2020.\n"
     ]
    }
   ],
   "source": [
    "print(text)"
   ]
  },
  {
   "cell_type": "code",
   "execution_count": 3,
   "id": "206b8585-dfba-475f-bc9d-55c40d0c9179",
   "metadata": {},
   "outputs": [
    {
     "data": {
      "text/plain": [
       "'Data science is an interdisciplinary academic field[1] that uses statistics, scientific computing, s'"
      ]
     },
     "execution_count": 3,
     "metadata": {},
     "output_type": "execute_result"
    }
   ],
   "source": [
    "text[0:100]"
   ]
  },
  {
   "cell_type": "code",
   "execution_count": 4,
   "id": "64a88285-ee32-4740-b934-415b4c800aa1",
   "metadata": {},
   "outputs": [],
   "source": [
    "text = text.lower()"
   ]
  },
  {
   "cell_type": "code",
   "execution_count": 5,
   "id": "12b35fd2-05b0-4b5d-b3a5-5d9680ec7ff4",
   "metadata": {},
   "outputs": [
    {
     "name": "stderr",
     "output_type": "stream",
     "text": [
      "[nltk_data] Downloading package punkt to\n",
      "[nltk_data]     C:\\Users\\neera\\AppData\\Roaming\\nltk_data...\n",
      "[nltk_data]   Package punkt is already up-to-date!\n",
      "[nltk_data] Downloading package punkt_tab to\n",
      "[nltk_data]     C:\\Users\\neera\\AppData\\Roaming\\nltk_data...\n",
      "[nltk_data]   Package punkt_tab is already up-to-date!\n"
     ]
    },
    {
     "data": {
      "text/plain": [
       "True"
      ]
     },
     "execution_count": 5,
     "metadata": {},
     "output_type": "execute_result"
    }
   ],
   "source": [
    "nltk.download('punkt')\n",
    "nltk.download('punkt_tab')"
   ]
  },
  {
   "cell_type": "code",
   "execution_count": 6,
   "id": "33202009-ea9a-4aad-9c26-82220335bc58",
   "metadata": {},
   "outputs": [],
   "source": [
    "# tokenize = seprate\n",
    "word_token = nltk.word_tokenize(text)\n",
    "sentence_token = nltk.sent_tokenize(text)"
   ]
  },
  {
   "cell_type": "code",
   "execution_count": 7,
   "id": "8deaa0c4-e55f-4d21-a4f4-3daff8186428",
   "metadata": {},
   "outputs": [
    {
     "data": {
      "text/plain": [
       "['science',\n",
       " 'is',\n",
       " 'an',\n",
       " 'interdisciplinary',\n",
       " 'academic',\n",
       " 'field',\n",
       " '[',\n",
       " '1',\n",
       " ']']"
      ]
     },
     "execution_count": 7,
     "metadata": {},
     "output_type": "execute_result"
    }
   ],
   "source": [
    "word_token[1:10]"
   ]
  },
  {
   "cell_type": "code",
   "execution_count": 8,
   "id": "15df100c-f404-400f-99ee-7ea48093e9e4",
   "metadata": {},
   "outputs": [
    {
     "data": {
      "text/plain": [
       "['data science is an interdisciplinary academic field[1] that uses statistics, scientific computing, scientific methods, processing, scientific visualization, algorithms and systems to extract or extrapolate knowledge and insights from potentially noisy, structured, or unstructured data.',\n",
       " '[2]\\n\\ndata science also integrates domain knowledge from the underlying application domain (e.g., natural sciences, information technology, and medicine).',\n",
       " '[3] data science is multifaceted and can be described as a science, a research paradigm, a research method, a discipline, a workflow, and a profession.',\n",
       " '[4]\\n\\ndata science is \"a concept to unify statistics, data analysis, informatics, and their related methods\" to \"understand and analyze actual phenomena\" with data.',\n",
       " '[5] it uses techniques and theories drawn from many fields within the context of mathematics, statistics, computer science, information science, and domain knowledge.',\n",
       " '[6] however, data science is different from computer science and information science.',\n",
       " 'turing award winner jim gray imagined data science as a \"fourth paradigm\" of science (empirical, theoretical, computational, and now data-driven) and asserted that \"everything about science is changing because of the impact of information technology\" and the data deluge.',\n",
       " '[7][8]\\n\\na data scientist is a professional who creates programming code and combines it with statistical knowledge to create insights from data.',\n",
       " '[9]\\n\\nfoundations\\ndata science is an interdisciplinary field[10] focused on extracting knowledge from typically large data sets and applying the knowledge and insights from that data to solve problems in a wide range of application domains.',\n",
       " 'the field encompasses preparing data for analysis, formulating data science problems, analyzing data, developing data-driven solutions, and presenting findings to inform high-level decisions in a broad range of application domains.']"
      ]
     },
     "execution_count": 8,
     "metadata": {},
     "output_type": "execute_result"
    }
   ],
   "source": [
    "sentence_token[0:10]"
   ]
  },
  {
   "cell_type": "code",
   "execution_count": 9,
   "id": "028e45b4-4a31-4c8e-a084-cc1e5ebeebad",
   "metadata": {},
   "outputs": [
    {
     "data": {
      "text/plain": [
       "['data', 'science']"
      ]
     },
     "execution_count": 9,
     "metadata": {},
     "output_type": "execute_result"
    }
   ],
   "source": [
    "word_token[:2]"
   ]
  },
  {
   "cell_type": "code",
   "execution_count": 10,
   "id": "b6acea06-852f-424a-88fb-f5ff2780dacc",
   "metadata": {},
   "outputs": [
    {
     "data": {
      "text/plain": [
       "['data science is an interdisciplinary academic field[1] that uses statistics, scientific computing, scientific methods, processing, scientific visualization, algorithms and systems to extract or extrapolate knowledge and insights from potentially noisy, structured, or unstructured data.',\n",
       " '[2]\\n\\ndata science also integrates domain knowledge from the underlying application domain (e.g., natural sciences, information technology, and medicine).',\n",
       " '[3] data science is multifaceted and can be described as a science, a research paradigm, a research method, a discipline, a workflow, and a profession.']"
      ]
     },
     "execution_count": 10,
     "metadata": {},
     "output_type": "execute_result"
    }
   ],
   "source": [
    "sentence_token[:3]"
   ]
  },
  {
   "cell_type": "markdown",
   "id": "433a6af8-b9fd-450c-a6e7-44759b47378d",
   "metadata": {},
   "source": [
    "# Text Preprocessing"
   ]
  },
  {
   "cell_type": "code",
   "execution_count": 11,
   "id": "e7de030c-f925-44b3-8d4c-ea1f3ca6fe8c",
   "metadata": {},
   "outputs": [],
   "source": [
    "import string\n",
    "\n",
    "lemmatization = nltk.stem.WordNetLemmatizer()\n",
    "\n",
    "def toklemma(tokens):\n",
    "    return [lemmatization.lemmatize(tk) for tk in tokens]\n",
    "\n",
    "remove_punct_dict = dict((ord(puc), None) for puc in string.punctuation)\n",
    "\n",
    "def lemNormalize(text):\n",
    "    return toklemma(nltk.word_tokenize(text.lower().translate(remove_punct_dict)))"
   ]
  },
  {
   "cell_type": "markdown",
   "id": "162e009d-ab15-4249-b36c-c6e512c83bd4",
   "metadata": {},
   "source": [
    "# Greet Function"
   ]
  },
  {
   "cell_type": "code",
   "execution_count": 12,
   "id": "318dfa3f-4130-4346-beeb-f4e8c50b2dc1",
   "metadata": {},
   "outputs": [],
   "source": [
    "greet_input = ('hey', 'hello', 'greetings', 'sup', 'whats up')\n",
    "greet_response = ['hey', 'hello', 'hi there', 'what\\'s going on', 'I am glad!']"
   ]
  },
  {
   "cell_type": "code",
   "execution_count": 13,
   "id": "6169e261-3958-45d6-958a-2c5007287e3b",
   "metadata": {},
   "outputs": [],
   "source": [
    "def greet(sentence):\n",
    "    for word in sentence.split():\n",
    "        if word.lower() in greet_input:\n",
    "            return random.choice(greet_response)"
   ]
  },
  {
   "cell_type": "code",
   "execution_count": 14,
   "id": "b986fc3c-21fa-4f33-a281-483008d02037",
   "metadata": {},
   "outputs": [
    {
     "name": "stderr",
     "output_type": "stream",
     "text": [
      "[nltk_data] Downloading package wordnet to\n",
      "[nltk_data]     C:\\Users\\neera\\AppData\\Roaming\\nltk_data...\n",
      "[nltk_data]   Package wordnet is already up-to-date!\n"
     ]
    },
    {
     "data": {
      "text/plain": [
       "True"
      ]
     },
     "execution_count": 14,
     "metadata": {},
     "output_type": "execute_result"
    }
   ],
   "source": [
    "nltk.download('wordnet')"
   ]
  },
  {
   "cell_type": "code",
   "execution_count": 15,
   "id": "79df217b-0e64-4df2-b148-52f0490959ce",
   "metadata": {},
   "outputs": [],
   "source": [
    "from sklearn.feature_extraction.text import TfidfVectorizer\n",
    "from sklearn.metrics.pairwise import cosine_similarity"
   ]
  },
  {
   "cell_type": "markdown",
   "id": "3dfb177a-8a6e-4a84-b5cf-cc8181bbc00c",
   "metadata": {},
   "source": [
    "# Checking similarity between user input and existed input"
   ]
  },
  {
   "cell_type": "code",
   "execution_count": 18,
   "id": "59feab8a-cabf-426e-ad77-e1e11b38a60c",
   "metadata": {},
   "outputs": [],
   "source": [
    "def response(user_input):\n",
    "    robo1_res = \"\"\n",
    "    tfidfvec = TfidfVectorizer(tokenizer=lemNormalize, stop_words='english')\n",
    "    tfidf = tfidfvec.fit_transform(sentence_token)\n",
    "    vals = cosine_similarity(tfidf[-1],tfidf)\n",
    "    idx = vals.argsort()[0][-2]\n",
    "    flat = vals.flatten()\n",
    "    flat.sort()\n",
    "    reg_tfidf = flat[-2]\n",
    "    \n",
    "    if reg_tfidf==0:\n",
    "        robo1_res = robo1_res+\"I am sorry I don't understand you\"\n",
    "        return robo1_res\n",
    "    \n",
    "    else:\n",
    "        robo1_res = robo1_res+sentence_token[idx]\n",
    "    \n",
    "    return robo1_res"
   ]
  },
  {
   "cell_type": "markdown",
   "id": "b04473e8-5f96-44d3-a677-f44d3e17c3dd",
   "metadata": {},
   "source": [
    "# Conversation Start and End Protocols"
   ]
  },
  {
   "cell_type": "code",
   "execution_count": null,
   "id": "5c6fd90d-63e7-49dc-b5db-9fcba10af215",
   "metadata": {},
   "outputs": [
    {
     "name": "stdout",
     "output_type": "stream",
     "text": [
      "Bot: Hey Neo. Let's have a conversation. If you want to exit just type Buy!\n"
     ]
    },
    {
     "name": "stdin",
     "output_type": "stream",
     "text": [
      " hey\n"
     ]
    },
    {
     "name": "stdout",
     "output_type": "stream",
     "text": [
      "Bot:hey\n"
     ]
    },
    {
     "name": "stdin",
     "output_type": "stream",
     "text": [
      " foundations\n"
     ]
    },
    {
     "name": "stdout",
     "output_type": "stream",
     "text": [
      "Bot:both fields require a solid foundation in statistics, programming, and data visualization, as well as the ability to communicate findings effectively to both technical and non-technical audiences.\n"
     ]
    },
    {
     "name": "stdin",
     "output_type": "stream",
     "text": [
      " sup\n"
     ]
    },
    {
     "name": "stdout",
     "output_type": "stream",
     "text": [
      "Bot:I am sorry I don't understand you\n"
     ]
    },
    {
     "name": "stdin",
     "output_type": "stream",
     "text": [
      " Playing Area\n"
     ]
    },
    {
     "name": "stdout",
     "output_type": "stream",
     "text": [
      "Bot:[30] in a 2001 paper, he advocated an expansion of statistics beyond theory into technical areas; because this would significantly change the field, it warranted a new name.\n"
     ]
    },
    {
     "name": "stdin",
     "output_type": "stream",
     "text": [
      " whats up\n"
     ]
    },
    {
     "name": "stdout",
     "output_type": "stream",
     "text": [
      "Bot:\"what's the difference between data science and statistics?\".\n"
     ]
    },
    {
     "name": "stdin",
     "output_type": "stream",
     "text": [
      " Modern usage\n"
     ]
    },
    {
     "name": "stdout",
     "output_type": "stream",
     "text": [
      "Bot:[20]\n",
      "\n",
      "etymology\n",
      "early usage\n",
      "in 1962, john tukey described a field he called \"data analysis\", which resembles modern data science.\n"
     ]
    }
   ],
   "source": [
    "flag =True\n",
    "print(\"Bot: Hey Neo. Let's have a conversation. If you want to exit just type Buy!\")\n",
    "\n",
    "while flag==True:\n",
    "    user_response = input()\n",
    "    user_response = user_response.lower()\n",
    "    \n",
    "    if user_response !='buy':\n",
    "        if user_response==\"thanks\" or user_response=='thank you':\n",
    "            flag = False\n",
    "            print(\"Bot: You are Welcome\")\n",
    "        else:\n",
    "            sentence_token.append(user_response)\n",
    "            word_tokens =word_token+nltk.word_tokenize(user_response)\n",
    "            final_words = list(set(word_tokens))\n",
    "            \n",
    "            print(\"Bot:\",end=\"\")\n",
    "            print(response(user_response))\n",
    "            sentence_token.remove(user_response)\n",
    "    else:\n",
    "        \n",
    "        flag=False\n",
    "        print('Bot: Ok Good Buy! Take Care')\n",
    "                "
   ]
  },
  {
   "cell_type": "code",
   "execution_count": null,
   "id": "bf9152fc-4e95-4b42-aee3-48e217b20679",
   "metadata": {},
   "outputs": [],
   "source": []
  }
 ],
 "metadata": {
  "kernelspec": {
   "display_name": "Python 3 (ipykernel)",
   "language": "python",
   "name": "python3"
  },
  "language_info": {
   "codemirror_mode": {
    "name": "ipython",
    "version": 3
   },
   "file_extension": ".py",
   "mimetype": "text/x-python",
   "name": "python",
   "nbconvert_exporter": "python",
   "pygments_lexer": "ipython3",
   "version": "3.12.4"
  }
 },
 "nbformat": 4,
 "nbformat_minor": 5
}
